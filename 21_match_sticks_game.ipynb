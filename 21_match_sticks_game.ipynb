{
  "nbformat": 4,
  "nbformat_minor": 0,
  "metadata": {
    "colab": {
      "private_outputs": true,
      "provenance": [],
      "authorship_tag": "ABX9TyPGOqrrr2KUcl4gHTDVERE4",
      "include_colab_link": true
    },
    "kernelspec": {
      "name": "python3",
      "display_name": "Python 3"
    },
    "language_info": {
      "name": "python"
    }
  },
  "cells": [
    {
      "cell_type": "markdown",
      "metadata": {
        "id": "view-in-github",
        "colab_type": "text"
      },
      "source": [
        "<a href=\"https://colab.research.google.com/github/Arup13455/Python-Projects/blob/main/21_match_sticks_game.ipynb\" target=\"_parent\"><img src=\"https://colab.research.google.com/assets/colab-badge.svg\" alt=\"Open In Colab\"/></a>"
      ]
    },
    {
      "cell_type": "code",
      "execution_count": null,
      "metadata": {
        "id": "lsQtbnVNqlGp"
      },
      "outputs": [],
      "source": [
        "# 21 match sticks game\n",
        "# which has the last stick he will lose and always computer have to win\n",
        "# user can take atleast 1 stick and max 4 stick\n",
        "sticks = 21\n",
        "while sticks > 0:\n",
        "    user_choice = int(input(\"Pick match sticks(1-4): \"))\n",
        "    if user_choice < 1 or user_choice > 4:\n",
        "       print(\"Invalid choice\")\n",
        "       break\n",
        "    sticks -= user_choice\n",
        "    # now computer's turn\n",
        "    com_choice = 5-user_choice\n",
        "    print(f\"Computer picked {com_choice} sticks.\")\n",
        "    sticks -= com_choice\n",
        "    print(f\"Remaining sticks: {sticks}.\")\n",
        "    if sticks == 1:\n",
        "      print(\"Computer wins!.\")\n",
        "      break"
      ]
    }
  ]
}