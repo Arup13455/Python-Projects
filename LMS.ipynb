{
  "nbformat": 4,
  "nbformat_minor": 0,
  "metadata": {
    "colab": {
      "provenance": [],
      "authorship_tag": "ABX9TyMAwwiiWKM40vvxm01qaI3a",
      "include_colab_link": true
    },
    "kernelspec": {
      "name": "python3",
      "display_name": "Python 3"
    },
    "language_info": {
      "name": "python"
    }
  },
  "cells": [
    {
      "cell_type": "markdown",
      "metadata": {
        "id": "view-in-github",
        "colab_type": "text"
      },
      "source": [
        "<a href=\"https://colab.research.google.com/github/Arup13455/Python-Projects/blob/main/LMS.ipynb\" target=\"_parent\"><img src=\"https://colab.research.google.com/assets/colab-badge.svg\" alt=\"Open In Colab\"/></a>"
      ]
    },
    {
      "cell_type": "code",
      "source": [
        "import pandas as pd\n",
        "\n",
        "# Load the Excel file\n",
        "def load_data(file_name=\"/content/lib_data2.xlsx\"):\n",
        "    try:\n",
        "        df = pd.read_excel(file_name, sheet_name='Sheet1', engine='openpyxl')\n",
        "    except FileNotFoundError:\n",
        "        print(f\"File {file_name} not found.\")\n",
        "        df = pd.DataFrame(columns=['ID', 'Title', 'Author', 'Genre', 'Available'])\n",
        "    return df\n",
        "\n",
        "# Save the DataFrame to the Excel file\n",
        "def save_data(df, file_name=\"/content/lib_data2.xlsx\"):\n",
        "    with pd.ExcelWriter(file_name, engine='openpyxl') as writer:\n",
        "        df.to_excel(writer, sheet_name='Sheet1', index=False)\n",
        "\n",
        "# View all books\n",
        "def view_books():\n",
        "    df = load_data()\n",
        "    print(df)\n",
        "\n",
        "\n",
        "# Add a new book\n",
        "def add_book(id, title, author, genre):\n",
        "    df = load_data()\n",
        "    new_book = pd.DataFrame([[id, title, author, genre, 'Yes']], columns=df.columns)\n",
        "    df = pd.concat([df, new_book], ignore_index=True)\n",
        "    save_data(df)\n",
        "    print(\"Book added successfully.\")\n",
        "\n",
        "# Borrow a book by genre\n",
        "def borrow_book_by_genre():\n",
        "    genre = input(\"Enter the genre of the book you want to borrow: \")\n",
        "    df = load_data()\n",
        "    available_books = df[(df['Genre'].str.contains(genre, case=False, na=False)) & (df['Available'] == 'Yes')]\n",
        "    if available_books.empty:\n",
        "        print(f\"No available books found in the genre: {genre}\")\n",
        "\n",
        "    print(\"Available books:\")\n",
        "    print(available_books)\n",
        "\n",
        "    try:\n",
        "        book_id = int(input(\"Enter the ID of the book you want to borrow: \"))\n",
        "        if book_id in available_books['ID'].values:\n",
        "            df.loc[df['ID'] == book_id, 'Available'] = 'No'\n",
        "            save_data(df)\n",
        "            print(\"Book borrowed successfully.\")\n",
        "        else:\n",
        "            print(\"Invalid book ID.\")\n",
        "    except ValueError:\n",
        "        print(\"Invalid input. Please enter a valid book ID.\")\n",
        "\n",
        "# Return a book\n",
        "def return_book(id):\n",
        "    df = load_data()\n",
        "    if id in df['ID'].values:\n",
        "        df.loc[df['ID'] == id, 'Available'] = 'Yes'\n",
        "        save_data(df)\n",
        "        print(\"Book returned successfully.\")\n",
        "    else:\n",
        "        print(\"Book ID not found.\")\n",
        "\n",
        "# Main menu\n",
        "def main():\n",
        "    while True:\n",
        "        print(\"\\nLibrary Management System\")\n",
        "        print(\"1. View Books\")\n",
        "        print(\"2. Add Book\")\n",
        "        print(\"3. Borrow Book\")\n",
        "        print(\"4. Return Book\")\n",
        "        print(\"5. Exit\")\n",
        "        choice = int(input(\"Enter your choice: \"))\n",
        "\n",
        "        if choice == 1:\n",
        "            view_books()\n",
        "        elif choice == 2:\n",
        "            id = int(input(\"Enter book ID: \"))\n",
        "            title = input(\"Enter book title: \")\n",
        "            author = input(\"Enter book author: \")\n",
        "            genre = input(\"Enter book genre: \")\n",
        "            add_book(id, title, author, genre)\n",
        "        elif choice == 3:\n",
        "            borrow_book_by_genre()\n",
        "        elif choice == 4:\n",
        "            id = int(input(\"Enter book ID to return: \"))\n",
        "            return_book(id)\n",
        "        elif choice == 5:\n",
        "            break #quit()\n",
        "        else:\n",
        "            print(\"Invalid choice. Please try again.\")\n",
        "\n",
        "if __name__ == \"__main__\":\n",
        "   main()"
      ],
      "metadata": {
        "colab": {
          "base_uri": "https://localhost:8080/"
        },
        "id": "bEUWF59je1Ev",
        "outputId": "b68a80e3-a8d8-47c4-c5ad-eddfe656965c"
      },
      "execution_count": 10,
      "outputs": [
        {
          "name": "stdout",
          "output_type": "stream",
          "text": [
            "\n",
            "Library Management System\n",
            "1. View Books\n",
            "2. Add Book\n",
            "3. Borrow Book\n",
            "4. Return Book\n",
            "5. Exit\n",
            "Enter your choice: 1\n",
            "   ID              Title            Author             Genre Available\n",
            "0   1   The Great Gatsby           F.Scott           Fiction       Yes\n",
            "1   2               1984     George Orwell          Dystopia       Yes\n",
            "2   3         Moboy Dick  Herm an Melville           Fiction       Yes\n",
            "3   4        Core Python  Dr. Nageswar Rao            Coding        No\n",
            "4   5             Core C     Danish Ritche            Coding       Yes\n",
            "5   6          Core Java        Dr. Ganesh            Coding       Yes\n",
            "6   7  Rich Dad poor Dad           W.Smith  Money Management       Yes\n",
            "\n",
            "Library Management System\n",
            "1. View Books\n",
            "2. Add Book\n",
            "3. Borrow Book\n",
            "4. Return Book\n",
            "5. Exit\n",
            "Enter your choice: 5\n"
          ]
        }
      ]
    }
  ]
}