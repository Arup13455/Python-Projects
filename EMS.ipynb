{
  "nbformat": 4,
  "nbformat_minor": 0,
  "metadata": {
    "colab": {
      "provenance": [],
      "mount_file_id": "1285vKM6cBOC-WdIQ34BbV74yK-cylzMc",
      "authorship_tag": "ABX9TyOKLkcObocfoASayS4+WVbx",
      "include_colab_link": true
    },
    "kernelspec": {
      "name": "python3",
      "display_name": "Python 3"
    },
    "language_info": {
      "name": "python"
    }
  },
  "cells": [
    {
      "cell_type": "markdown",
      "metadata": {
        "id": "view-in-github",
        "colab_type": "text"
      },
      "source": [
        "<a href=\"https://colab.research.google.com/github/Arup13455/Python-Projects/blob/main/EMS.ipynb\" target=\"_parent\"><img src=\"https://colab.research.google.com/assets/colab-badge.svg\" alt=\"Open In Colab\"/></a>"
      ]
    },
    {
      "cell_type": "code",
      "source": [
        "import pandas as pd\n",
        "\n",
        "# Load the Excel file\n",
        "def load_data(file_name=\"/content/E_data.xlsx\"):\n",
        "    try:\n",
        "        df = pd.read_excel(file_name, sheet_name='Sheet1', engine='openpyxl')\n",
        "    except FileNotFoundError:\n",
        "        print(f\"File {file_name} not found.\")\n",
        "        df = pd.DataFrame(columns=['empid', 'ename', 'sal', 'doj'])\n",
        "    return df\n",
        "\n",
        "# Save the DataFrame to the Excel file\n",
        "def save_data(df, file_name=\"/content/E_data.xlsx\"):\n",
        "    with pd.ExcelWriter(file_name, engine='openpyxl') as writer:\n",
        "        df.to_excel(writer, sheet_name='Sheet1', index=False)\n",
        "\n",
        "# View all employees\n",
        "def view_employees():\n",
        "    df = load_data()\n",
        "    print(df)\n",
        "\n",
        "\n",
        "# Add a new employee\n",
        "def add_employee(empid, ename, sal, doj):\n",
        "    df = load_data()\n",
        "    new_employee = pd.DataFrame([[empid, ename, sal, doj]], columns=df.columns)\n",
        "    df = pd.concat([df, new_employee], ignore_index=True)\n",
        "    save_data(df)\n",
        "    print(\"employee added successfully.\")\n",
        "\n",
        "# Remove an employee\n",
        "def remove_employee(empid, ename, sal, doj):\n",
        "    df = load_data()\n",
        "    df = df.drop(df[(df['empid'] == empid) & (df['ename'] == ename) & (df['sal'] == sal) & (df['doj'] == doj)].index)\n",
        "    save_data(df)\n",
        "    print(\"employee removed successfully.\")\n",
        "\n",
        "\n",
        "# Main menu\n",
        "def main():\n",
        "    while True:\n",
        "        print(\"\\nEmployee Management System\")\n",
        "        print(\"1. View employees\")\n",
        "        print(\"2. Add employee\")\n",
        "        print(\"3. Remove employee\")\n",
        "        print(\"4. Exit\")\n",
        "        choice = int(input(\"Enter your choice: \"))\n",
        "\n",
        "        if choice == 1:\n",
        "            view_employees()\n",
        "        elif choice == 2:\n",
        "            empid = int(input(\"Enter employee ID: \"))\n",
        "            ename = input(\"Enter employee name: \")\n",
        "            sal = int(input(\"Enter employee salary: \"))\n",
        "            doj = input(\"Enter employee date of joining: \")\n",
        "            add_employee(empid, ename, sal, doj)\n",
        "        elif choice == 3:\n",
        "            empid = int(input(\"Enter employee ID: \"))\n",
        "            ename = input(\"Enter employee name: \")\n",
        "            sal = int(input(\"Enter employee salary: \"))\n",
        "            doj = input(\"Enter employee date of joining: \")\n",
        "            remove_employee(empid, ename, sal, doj)\n",
        "        elif choice == 4:\n",
        "            break #quit()\n",
        "        else:\n",
        "            print(\"Invalid choice. Please try again.\")\n",
        "\n",
        "if __name__ == \"__main__\":\n",
        "   main()"
      ],
      "metadata": {
        "id": "gS7GC1tK0sBp",
        "colab": {
          "base_uri": "https://localhost:8080/"
        },
        "outputId": "3a1f39ee-0e04-4d1d-9d44-ec13fb6ea9e7"
      },
      "execution_count": 4,
      "outputs": [
        {
          "name": "stdout",
          "output_type": "stream",
          "text": [
            "\n",
            "Employee Management System\n",
            "1. View employees\n",
            "2. Add employee\n",
            "3. update employee\n",
            "4. Exit\n",
            "Enter your choice: 1\n",
            "   empid          ename     sal                  doj\n",
            "0     11   Nitish Kumar  134520  2000-07-03 00:00:00\n",
            "1     12  Chandra Naidu  145326  2005-03-09 00:00:00\n",
            "2     13      Anant Nag  178320          08-01-20008\n",
            "3     14   Hema Chandra  125430  2011-04-07 00:00:00\n",
            "4     15    Arup Mondal  143250           09-11-2022\n",
            "\n",
            "Employee Management System\n",
            "1. View employees\n",
            "2. Add employee\n",
            "3. update employee\n",
            "4. Exit\n",
            "Enter your choice: 3\n",
            "Enter employee ID: 15\n",
            "Enter employee name: Arup Mondal\n",
            "Enter employee salary: 143250\n",
            "Enter employee date of joining: 09-11-2022\n",
            "employee removed successfully.\n",
            "\n",
            "Employee Management System\n",
            "1. View employees\n",
            "2. Add employee\n",
            "3. update employee\n",
            "4. Exit\n",
            "Enter your choice: 1\n",
            "   empid          ename     sal                  doj\n",
            "0     11   Nitish Kumar  134520  2000-07-03 00:00:00\n",
            "1     12  Chandra Naidu  145326  2005-03-09 00:00:00\n",
            "2     13      Anant Nag  178320          08-01-20008\n",
            "3     14   Hema Chandra  125430  2011-04-07 00:00:00\n",
            "\n",
            "Employee Management System\n",
            "1. View employees\n",
            "2. Add employee\n",
            "3. update employee\n",
            "4. Exit\n",
            "Enter your choice: 4\n"
          ]
        }
      ]
    }
  ]
}